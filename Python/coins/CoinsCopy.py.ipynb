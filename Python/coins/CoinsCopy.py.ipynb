{
 "cells": [
  {
   "cell_type": "code",
   "execution_count": null,
   "metadata": {
    "collapsed": true
   },
   "outputs": [],
   "source": [
    "import random\n",
    "\n",
    "class Coin:\n",
    "    def __init__(self, rare=False, clean=True): # By default, a coin is not rare and is clean\n",
    "        self.is_rare = rare\n",
    "        self.is_clean = clean\n",
    "        self.heads = heads\n",
    "        \n",
    "        if self.is_rare: # If is_rare = True\n",
    "            self.value = self.original_value * 1.25\n",
    "        else:\n",
    "            self.value = self.original_value\n",
    "            \n",
    "        if self.is_clean: \n",
    "            self.color = self.clean_color\n",
    "        else:\n",
    "            self.color = self.rusty\n",
    "        \n",
    "        def rust(self):\n",
    "            self.color = self.rusty_color\n",
    "            \n",
    "        def clean(self):\n",
    "            self.color = self.clean_color\n",
    "            \n",
    "        def __del__(self):\n",
    "            print(\"Coin spent!\")\n",
    "            \n",
    "        def flip(self):\n",
    "            heads_options = [True,False]\n",
    "            choice = random.choice(heads_options)\n",
    "            self.heads = choice\n",
    "        \n",
    "class Quarter(Coin):\n",
    "    def __init__(self):\n",
    "        data = {\n",
    "         \"original_value\":0.25,\n",
    "         \"clean_color\":\"silver\",\n",
    "         \"rusty_color\":\"brown-greenish\",\n",
    "         \"diameter\":.955,\n",
    "         \"num_edges\":1,\n",
    "         \"thickness\":1.2,\n",
    "         \"weight\":2.5\n",
    "         }\n",
    "    \n",
    "            "
   ]
  }
 ],
 "metadata": {
  "kernelspec": {
   "display_name": "Python 3",
   "language": "python",
   "name": "python3"
  },
  "language_info": {
   "codemirror_mode": {
    "name": "ipython",
    "version": 3
   },
   "file_extension": ".py",
   "mimetype": "text/x-python",
   "name": "python",
   "nbconvert_exporter": "python",
   "pygments_lexer": "ipython3",
   "version": "3.6.3"
  }
 },
 "nbformat": 4,
 "nbformat_minor": 2
}
